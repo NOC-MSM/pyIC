{
 "cells": [
  {
   "cell_type": "markdown",
   "id": "c23e5708-545b-46f2-8889-4c54e44a2356",
   "metadata": {},
   "source": [
    "## Vertical regridding example\n",
    "This notebook requires `intake`, `intake-esm` and `gcsfs` which are *not* dependencies of pyIC: you will need to install these.\n",
    "\n",
    "This notebook is based on the `xgcm` example for regridding: https://xgcm.readthedocs.io/en/latest/transform.html#Realistic-Data-Example."
   ]
  },
  {
   "cell_type": "code",
   "execution_count": null,
   "id": "784e861f-1a5f-4487-9e5f-f1333206c971",
   "metadata": {},
   "outputs": [],
   "source": [
    "import cf_xarray\n",
    "import intake\n",
    "import numpy as np\n",
    "import xarray as xr\n",
    "\n",
    "from pyic.grid import GRID"
   ]
  },
  {
   "cell_type": "code",
   "execution_count": null,
   "id": "1711eb0f-04fa-4690-9120-8fc6765d86e4",
   "metadata": {},
   "outputs": [],
   "source": [
    "# use intake to get some cmip6 data\n",
    "\n",
    "col = intake.open_esm_datastore(\"https://storage.googleapis.com/cmip6/pangeo-cmip6.json\")\n",
    "\n",
    "cat = col.search(\n",
    "    source_id=\"CNRM-ESM2-1\",\n",
    "    member_id=\"r1i1p1f2\",\n",
    "    experiment_id=\"historical\",\n",
    "    variable_id=[\"thetao\", \"so\", \"vo\", \"areacello\"],\n",
    "    grid_label=\"gn\",\n",
    ")\n",
    "ddict = cat.to_dataset_dict(zarr_kwargs={\"consolidated\": True, \"use_cftime\": True}, aggregate=False)"
   ]
  },
  {
   "cell_type": "code",
   "execution_count": null,
   "id": "8f128eb1-e086-4885-a034-9a3ba1951617",
   "metadata": {},
   "outputs": [],
   "source": [
    "# construct datasets from cmip data\n",
    "\n",
    "thetao = ddict[\n",
    "    \"CMIP.CNRM-CERFACS.CNRM-ESM2-1.historical.r1i1p1f2.Omon.thetao.gn.gs://cmip6/CMIP6/CMIP/CNRM-CERFACS/CNRM-ESM2-1/historical/r1i1p1f2/Omon/thetao/gn/v20181206/.20181206\"\n",
    "]\n",
    "so = ddict[\n",
    "    \"CMIP.CNRM-CERFACS.CNRM-ESM2-1.historical.r1i1p1f2.Omon.so.gn.gs://cmip6/CMIP6/CMIP/CNRM-CERFACS/CNRM-ESM2-1/historical/r1i1p1f2/Omon/so/gn/v20181206/.20181206\"\n",
    "]\n",
    "vo = ddict[\n",
    "    \"CMIP.CNRM-CERFACS.CNRM-ESM2-1.historical.r1i1p1f2.Omon.vo.gn.gs://cmip6/CMIP6/CMIP/CNRM-CERFACS/CNRM-ESM2-1/historical/r1i1p1f2/Omon/vo/gn/v20181206/.20181206\"\n",
    "]\n",
    "areacello = ddict[\n",
    "    \"CMIP.CNRM-CERFACS.CNRM-ESM2-1.historical.r1i1p1f2.Ofx.areacello.gn.gs://cmip6/CMIP6/CMIP/CNRM-CERFACS/CNRM-ESM2-1/historical/r1i1p1f2/Ofx/areacello/gn/v20181206/.20181206\"\n",
    "].areacello\n",
    "\n",
    "vo = vo.rename(\n",
    "    {\"y\": \"y_c\", \"lon\": \"lon_v\", \"lat\": \"lat_v\", \"bounds_lon\": \"bounds_lon_v\", \"bounds_lat\": \"bounds_lat_v\"}\n",
    ")\n",
    "\n",
    "ds = xr.merge([thetao, so, vo], compat=\"override\")\n",
    "ds = ds.assign_coords(areacello=areacello.fillna(0))\n",
    "ds"
   ]
  },
  {
   "cell_type": "code",
   "execution_count": null,
   "id": "380c4684-0fe0-4895-bc8d-1b69b115643d",
   "metadata": {},
   "outputs": [],
   "source": [
    "# assign coords\n",
    "\n",
    "level_outer_data = cf_xarray.bounds_to_vertices(ds.lev_bounds, \"axis_nbounds\").load().data\n",
    "\n",
    "ds = ds.assign_coords({\"level_outer\": level_outer_data})"
   ]
  },
  {
   "cell_type": "code",
   "execution_count": null,
   "id": "33608cf0-c9cf-4df4-b8ad-0b70f4c6eae5",
   "metadata": {},
   "outputs": [],
   "source": [
    "# use vertical regrid in pyIC to produce regridded vertical"
   ]
  },
  {
   "cell_type": "code",
   "execution_count": null,
   "id": "f6537435-b26e-4b6b-9b0e-dae11469b789",
   "metadata": {},
   "outputs": [],
   "source": [
    "ds_rg = GRID(\n",
    "    dataset=ds,\n",
    "    convert_to_z_grid=True,\n",
    "    z_kwargs={\n",
    "        \"variable\": \"all\",\n",
    "        \"target\": np.arange(0, 500.0, 50),\n",
    "        # \"target_variable\":\"thetao\",\n",
    "        \"coord\": \"lev\",\n",
    "        \"method\": \"linear\",\n",
    "    },\n",
    ")"
   ]
  },
  {
   "cell_type": "code",
   "execution_count": null,
   "id": "dd641993-44ea-48e2-8681-967f1d17abcd",
   "metadata": {},
   "outputs": [],
   "source": [
    "# regridded\n",
    "ds_rg.ds[\"so\"]"
   ]
  },
  {
   "cell_type": "code",
   "execution_count": null,
   "id": "fb7afb7d-106e-4049-b0ba-9a95c90e294f",
   "metadata": {},
   "outputs": [],
   "source": [
    "# original\n",
    "ds_rg.raw_ds[\"so\"]"
   ]
  },
  {
   "cell_type": "code",
   "execution_count": null,
   "id": "72d4fc71-0237-4b82-8aeb-53f8967d5284",
   "metadata": {},
   "outputs": [],
   "source": []
  }
 ],
 "metadata": {
  "kernelspec": {
   "display_name": "",
   "language": "python",
   "name": ""
  },
  "language_info": {
   "codemirror_mode": {
    "name": "ipython",
    "version": 3
   },
   "file_extension": ".py",
   "mimetype": "text/x-python",
   "name": "python",
   "nbconvert_exporter": "python",
   "pygments_lexer": "ipython3",
   "version": "3.11.11"
  }
 },
 "nbformat": 4,
 "nbformat_minor": 5
}
